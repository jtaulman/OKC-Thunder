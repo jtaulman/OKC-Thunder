{
 "cells": [
  {
   "cell_type": "code",
   "execution_count": 1,
   "id": "b9907178",
   "metadata": {},
   "outputs": [],
   "source": [
    "import pandas as pd\n",
    "import numpy as np\n",
    "from math import sqrt"
   ]
  },
  {
   "cell_type": "code",
   "execution_count": 2,
   "id": "47309942",
   "metadata": {},
   "outputs": [],
   "source": [
    "# Effective Field Goal percentage formula\n",
    "#efg = FGM + (0.5 + 3PM) / FGA"
   ]
  },
  {
   "cell_type": "code",
   "execution_count": 3,
   "id": "4cf39407",
   "metadata": {},
   "outputs": [],
   "source": [
    "shot_data_to_load = \"Application Project/shots_data.csv\""
   ]
  },
  {
   "cell_type": "code",
   "execution_count": 4,
   "id": "e5d4f43d",
   "metadata": {},
   "outputs": [
    {
     "data": {
      "text/html": [
       "<div>\n",
       "<style scoped>\n",
       "    .dataframe tbody tr th:only-of-type {\n",
       "        vertical-align: middle;\n",
       "    }\n",
       "\n",
       "    .dataframe tbody tr th {\n",
       "        vertical-align: top;\n",
       "    }\n",
       "\n",
       "    .dataframe thead th {\n",
       "        text-align: right;\n",
       "    }\n",
       "</style>\n",
       "<table border=\"1\" class=\"dataframe\">\n",
       "  <thead>\n",
       "    <tr style=\"text-align: right;\">\n",
       "      <th></th>\n",
       "      <th>team</th>\n",
       "      <th>x</th>\n",
       "      <th>y</th>\n",
       "      <th>fgmade</th>\n",
       "    </tr>\n",
       "  </thead>\n",
       "  <tbody>\n",
       "    <tr>\n",
       "      <th>0</th>\n",
       "      <td>Team A</td>\n",
       "      <td>-5.0</td>\n",
       "      <td>26.4</td>\n",
       "      <td>0</td>\n",
       "    </tr>\n",
       "    <tr>\n",
       "      <th>1</th>\n",
       "      <td>Team A</td>\n",
       "      <td>-0.8</td>\n",
       "      <td>1.2</td>\n",
       "      <td>1</td>\n",
       "    </tr>\n",
       "    <tr>\n",
       "      <th>2</th>\n",
       "      <td>Team A</td>\n",
       "      <td>-13.9</td>\n",
       "      <td>9.5</td>\n",
       "      <td>1</td>\n",
       "    </tr>\n",
       "    <tr>\n",
       "      <th>3</th>\n",
       "      <td>Team A</td>\n",
       "      <td>-5.4</td>\n",
       "      <td>26.2</td>\n",
       "      <td>0</td>\n",
       "    </tr>\n",
       "    <tr>\n",
       "      <th>4</th>\n",
       "      <td>Team A</td>\n",
       "      <td>-4.9</td>\n",
       "      <td>14.5</td>\n",
       "      <td>1</td>\n",
       "    </tr>\n",
       "    <tr>\n",
       "      <th>...</th>\n",
       "      <td>...</td>\n",
       "      <td>...</td>\n",
       "      <td>...</td>\n",
       "      <td>...</td>\n",
       "    </tr>\n",
       "    <tr>\n",
       "      <th>499</th>\n",
       "      <td>Team B</td>\n",
       "      <td>-0.5</td>\n",
       "      <td>2.2</td>\n",
       "      <td>0</td>\n",
       "    </tr>\n",
       "    <tr>\n",
       "      <th>500</th>\n",
       "      <td>Team B</td>\n",
       "      <td>3.5</td>\n",
       "      <td>7.6</td>\n",
       "      <td>0</td>\n",
       "    </tr>\n",
       "    <tr>\n",
       "      <th>501</th>\n",
       "      <td>Team B</td>\n",
       "      <td>0.2</td>\n",
       "      <td>8.8</td>\n",
       "      <td>0</td>\n",
       "    </tr>\n",
       "    <tr>\n",
       "      <th>502</th>\n",
       "      <td>Team B</td>\n",
       "      <td>-0.6</td>\n",
       "      <td>0.7</td>\n",
       "      <td>1</td>\n",
       "    </tr>\n",
       "    <tr>\n",
       "      <th>503</th>\n",
       "      <td>Team B</td>\n",
       "      <td>-0.3</td>\n",
       "      <td>3.6</td>\n",
       "      <td>0</td>\n",
       "    </tr>\n",
       "  </tbody>\n",
       "</table>\n",
       "<p>504 rows × 4 columns</p>\n",
       "</div>"
      ],
      "text/plain": [
       "       team     x     y  fgmade\n",
       "0    Team A  -5.0  26.4       0\n",
       "1    Team A  -0.8   1.2       1\n",
       "2    Team A -13.9   9.5       1\n",
       "3    Team A  -5.4  26.2       0\n",
       "4    Team A  -4.9  14.5       1\n",
       "..      ...   ...   ...     ...\n",
       "499  Team B  -0.5   2.2       0\n",
       "500  Team B   3.5   7.6       0\n",
       "501  Team B   0.2   8.8       0\n",
       "502  Team B  -0.6   0.7       1\n",
       "503  Team B  -0.3   3.6       0\n",
       "\n",
       "[504 rows x 4 columns]"
      ]
     },
     "execution_count": 4,
     "metadata": {},
     "output_type": "execute_result"
    }
   ],
   "source": [
    "shot_data_df = pd.read_csv(shot_data_to_load)\n",
    "shot_data_df"
   ]
  },
  {
   "cell_type": "code",
   "execution_count": 5,
   "id": "12aed331",
   "metadata": {},
   "outputs": [],
   "source": [
    "distance = {\"d\":[]}"
   ]
  },
  {
   "cell_type": "code",
   "execution_count": 6,
   "id": "6b72fb5f",
   "metadata": {},
   "outputs": [],
   "source": [
    "for i,row in shot_data_df.iterrows():\n",
    "    distance[\"d\"].append(sqrt((row[\"x\"])**2 + (row[\"y\"])**2))"
   ]
  },
  {
   "cell_type": "code",
   "execution_count": 7,
   "id": "0b4e3727",
   "metadata": {},
   "outputs": [
    {
     "data": {
      "text/plain": [
       "504"
      ]
     },
     "execution_count": 7,
     "metadata": {},
     "output_type": "execute_result"
    }
   ],
   "source": [
    "len(distance[\"d\"])"
   ]
  },
  {
   "cell_type": "code",
   "execution_count": 8,
   "id": "d0eecd0a",
   "metadata": {},
   "outputs": [],
   "source": [
    "shot_data_df[\"d\"] = distance[\"d\"]"
   ]
  },
  {
   "cell_type": "code",
   "execution_count": 9,
   "id": "13ec2002",
   "metadata": {},
   "outputs": [
    {
     "data": {
      "text/html": [
       "<div>\n",
       "<style scoped>\n",
       "    .dataframe tbody tr th:only-of-type {\n",
       "        vertical-align: middle;\n",
       "    }\n",
       "\n",
       "    .dataframe tbody tr th {\n",
       "        vertical-align: top;\n",
       "    }\n",
       "\n",
       "    .dataframe thead th {\n",
       "        text-align: right;\n",
       "    }\n",
       "</style>\n",
       "<table border=\"1\" class=\"dataframe\">\n",
       "  <thead>\n",
       "    <tr style=\"text-align: right;\">\n",
       "      <th></th>\n",
       "      <th>team</th>\n",
       "      <th>x</th>\n",
       "      <th>y</th>\n",
       "      <th>fgmade</th>\n",
       "      <th>d</th>\n",
       "    </tr>\n",
       "  </thead>\n",
       "  <tbody>\n",
       "    <tr>\n",
       "      <th>0</th>\n",
       "      <td>Team A</td>\n",
       "      <td>-5.0</td>\n",
       "      <td>26.4</td>\n",
       "      <td>0</td>\n",
       "      <td>26.869313</td>\n",
       "    </tr>\n",
       "    <tr>\n",
       "      <th>1</th>\n",
       "      <td>Team A</td>\n",
       "      <td>-0.8</td>\n",
       "      <td>1.2</td>\n",
       "      <td>1</td>\n",
       "      <td>1.442221</td>\n",
       "    </tr>\n",
       "    <tr>\n",
       "      <th>2</th>\n",
       "      <td>Team A</td>\n",
       "      <td>-13.9</td>\n",
       "      <td>9.5</td>\n",
       "      <td>1</td>\n",
       "      <td>16.836270</td>\n",
       "    </tr>\n",
       "    <tr>\n",
       "      <th>3</th>\n",
       "      <td>Team A</td>\n",
       "      <td>-5.4</td>\n",
       "      <td>26.2</td>\n",
       "      <td>0</td>\n",
       "      <td>26.750701</td>\n",
       "    </tr>\n",
       "    <tr>\n",
       "      <th>4</th>\n",
       "      <td>Team A</td>\n",
       "      <td>-4.9</td>\n",
       "      <td>14.5</td>\n",
       "      <td>1</td>\n",
       "      <td>15.305555</td>\n",
       "    </tr>\n",
       "  </tbody>\n",
       "</table>\n",
       "</div>"
      ],
      "text/plain": [
       "     team     x     y  fgmade          d\n",
       "0  Team A  -5.0  26.4       0  26.869313\n",
       "1  Team A  -0.8   1.2       1   1.442221\n",
       "2  Team A -13.9   9.5       1  16.836270\n",
       "3  Team A  -5.4  26.2       0  26.750701\n",
       "4  Team A  -4.9  14.5       1  15.305555"
      ]
     },
     "execution_count": 9,
     "metadata": {},
     "output_type": "execute_result"
    }
   ],
   "source": [
    "#Seperating Team A and Team B\n",
    "teamA_shots = shot_data_df[shot_data_df[\"team\"] == \"Team A\"]\n",
    "teamA_shots.head()"
   ]
  },
  {
   "cell_type": "code",
   "execution_count": 10,
   "id": "9d9639eb",
   "metadata": {},
   "outputs": [
    {
     "data": {
      "text/plain": [
       "team      280\n",
       "x         280\n",
       "y         280\n",
       "fgmade    280\n",
       "d         280\n",
       "dtype: int64"
      ]
     },
     "execution_count": 10,
     "metadata": {},
     "output_type": "execute_result"
    }
   ],
   "source": [
    "teamA_shots.count()"
   ]
  },
  {
   "cell_type": "code",
   "execution_count": 11,
   "id": "599e287b",
   "metadata": {},
   "outputs": [
    {
     "data": {
      "text/plain": [
       "team       object\n",
       "x         float64\n",
       "y         float64\n",
       "fgmade      int64\n",
       "d         float64\n",
       "dtype: object"
      ]
     },
     "execution_count": 11,
     "metadata": {},
     "output_type": "execute_result"
    }
   ],
   "source": [
    "teamA_shots.dtypes"
   ]
  },
  {
   "cell_type": "code",
   "execution_count": 12,
   "id": "c51437bf",
   "metadata": {},
   "outputs": [
    {
     "data": {
      "text/html": [
       "<div>\n",
       "<style scoped>\n",
       "    .dataframe tbody tr th:only-of-type {\n",
       "        vertical-align: middle;\n",
       "    }\n",
       "\n",
       "    .dataframe tbody tr th {\n",
       "        vertical-align: top;\n",
       "    }\n",
       "\n",
       "    .dataframe thead th {\n",
       "        text-align: right;\n",
       "    }\n",
       "</style>\n",
       "<table border=\"1\" class=\"dataframe\">\n",
       "  <thead>\n",
       "    <tr style=\"text-align: right;\">\n",
       "      <th></th>\n",
       "      <th>team</th>\n",
       "      <th>x</th>\n",
       "      <th>y</th>\n",
       "      <th>fgmade</th>\n",
       "      <th>d</th>\n",
       "    </tr>\n",
       "  </thead>\n",
       "  <tbody>\n",
       "    <tr>\n",
       "      <th>0</th>\n",
       "      <td>Team A</td>\n",
       "      <td>-5.0</td>\n",
       "      <td>26.4</td>\n",
       "      <td>0</td>\n",
       "      <td>26.869313</td>\n",
       "    </tr>\n",
       "    <tr>\n",
       "      <th>1</th>\n",
       "      <td>Team A</td>\n",
       "      <td>-0.8</td>\n",
       "      <td>1.2</td>\n",
       "      <td>1</td>\n",
       "      <td>1.442221</td>\n",
       "    </tr>\n",
       "    <tr>\n",
       "      <th>2</th>\n",
       "      <td>Team A</td>\n",
       "      <td>-13.9</td>\n",
       "      <td>9.5</td>\n",
       "      <td>1</td>\n",
       "      <td>16.836270</td>\n",
       "    </tr>\n",
       "    <tr>\n",
       "      <th>3</th>\n",
       "      <td>Team A</td>\n",
       "      <td>-5.4</td>\n",
       "      <td>26.2</td>\n",
       "      <td>0</td>\n",
       "      <td>26.750701</td>\n",
       "    </tr>\n",
       "    <tr>\n",
       "      <th>4</th>\n",
       "      <td>Team A</td>\n",
       "      <td>-4.9</td>\n",
       "      <td>14.5</td>\n",
       "      <td>1</td>\n",
       "      <td>15.305555</td>\n",
       "    </tr>\n",
       "    <tr>\n",
       "      <th>...</th>\n",
       "      <td>...</td>\n",
       "      <td>...</td>\n",
       "      <td>...</td>\n",
       "      <td>...</td>\n",
       "      <td>...</td>\n",
       "    </tr>\n",
       "    <tr>\n",
       "      <th>275</th>\n",
       "      <td>Team A</td>\n",
       "      <td>-2.7</td>\n",
       "      <td>24.5</td>\n",
       "      <td>0</td>\n",
       "      <td>24.648327</td>\n",
       "    </tr>\n",
       "    <tr>\n",
       "      <th>276</th>\n",
       "      <td>Team A</td>\n",
       "      <td>4.2</td>\n",
       "      <td>10.3</td>\n",
       "      <td>1</td>\n",
       "      <td>11.123399</td>\n",
       "    </tr>\n",
       "    <tr>\n",
       "      <th>277</th>\n",
       "      <td>Team A</td>\n",
       "      <td>-9.0</td>\n",
       "      <td>1.2</td>\n",
       "      <td>1</td>\n",
       "      <td>9.079648</td>\n",
       "    </tr>\n",
       "    <tr>\n",
       "      <th>278</th>\n",
       "      <td>Team A</td>\n",
       "      <td>1.4</td>\n",
       "      <td>-0.1</td>\n",
       "      <td>0</td>\n",
       "      <td>1.403567</td>\n",
       "    </tr>\n",
       "    <tr>\n",
       "      <th>279</th>\n",
       "      <td>Team A</td>\n",
       "      <td>2.4</td>\n",
       "      <td>6.6</td>\n",
       "      <td>1</td>\n",
       "      <td>7.022820</td>\n",
       "    </tr>\n",
       "  </tbody>\n",
       "</table>\n",
       "<p>280 rows × 5 columns</p>\n",
       "</div>"
      ],
      "text/plain": [
       "       team     x     y  fgmade          d\n",
       "0    Team A  -5.0  26.4       0  26.869313\n",
       "1    Team A  -0.8   1.2       1   1.442221\n",
       "2    Team A -13.9   9.5       1  16.836270\n",
       "3    Team A  -5.4  26.2       0  26.750701\n",
       "4    Team A  -4.9  14.5       1  15.305555\n",
       "..      ...   ...   ...     ...        ...\n",
       "275  Team A  -2.7  24.5       0  24.648327\n",
       "276  Team A   4.2  10.3       1  11.123399\n",
       "277  Team A  -9.0   1.2       1   9.079648\n",
       "278  Team A   1.4  -0.1       0   1.403567\n",
       "279  Team A   2.4   6.6       1   7.022820\n",
       "\n",
       "[280 rows x 5 columns]"
      ]
     },
     "execution_count": 12,
     "metadata": {},
     "output_type": "execute_result"
    }
   ],
   "source": [
    "teamA_shots"
   ]
  },
  {
   "cell_type": "markdown",
   "id": "2770dcc1",
   "metadata": {},
   "source": [
    "## Corner 3 shots for Team A"
   ]
  },
  {
   "cell_type": "code",
   "execution_count": 13,
   "id": "69d843eb",
   "metadata": {},
   "outputs": [
    {
     "data": {
      "text/plain": [
       "(array([ 36,  38,  99, 118, 134, 193, 196, 207, 221], dtype=int64),)"
      ]
     },
     "execution_count": 13,
     "metadata": {},
     "output_type": "execute_result"
    }
   ],
   "source": [
    "#Corner 3 index for Left Corner\n",
    "idx1 = np.where((teamA_shots[\"x\"] < -22.0) & (teamA_shots[\"y\"] <= 7.8))\n",
    "idx1"
   ]
  },
  {
   "cell_type": "code",
   "execution_count": 14,
   "id": "21eb2507",
   "metadata": {},
   "outputs": [
    {
     "data": {
      "text/plain": [
       "(array([ 32, 122, 124, 125, 131, 137, 194, 200, 227], dtype=int64),)"
      ]
     },
     "execution_count": 14,
     "metadata": {},
     "output_type": "execute_result"
    }
   ],
   "source": [
    "#Corner 3 index for Right Corner\n",
    "idx2 = np.where((teamA_shots[\"x\"] > 22.0) & (teamA_shots[\"y\"] <=7.8))\n",
    "idx2"
   ]
  },
  {
   "cell_type": "code",
   "execution_count": 15,
   "id": "0a0e867e",
   "metadata": {},
   "outputs": [
    {
     "data": {
      "text/html": [
       "<div>\n",
       "<style scoped>\n",
       "    .dataframe tbody tr th:only-of-type {\n",
       "        vertical-align: middle;\n",
       "    }\n",
       "\n",
       "    .dataframe tbody tr th {\n",
       "        vertical-align: top;\n",
       "    }\n",
       "\n",
       "    .dataframe thead th {\n",
       "        text-align: right;\n",
       "    }\n",
       "</style>\n",
       "<table border=\"1\" class=\"dataframe\">\n",
       "  <thead>\n",
       "    <tr style=\"text-align: right;\">\n",
       "      <th></th>\n",
       "      <th>team</th>\n",
       "      <th>x</th>\n",
       "      <th>y</th>\n",
       "      <th>fgmade</th>\n",
       "      <th>d</th>\n",
       "    </tr>\n",
       "  </thead>\n",
       "  <tbody>\n",
       "    <tr>\n",
       "      <th>36</th>\n",
       "      <td>Team A</td>\n",
       "      <td>-22.3</td>\n",
       "      <td>-0.8</td>\n",
       "      <td>1</td>\n",
       "      <td>22.314345</td>\n",
       "    </tr>\n",
       "    <tr>\n",
       "      <th>38</th>\n",
       "      <td>Team A</td>\n",
       "      <td>-23.9</td>\n",
       "      <td>7.8</td>\n",
       "      <td>1</td>\n",
       "      <td>25.140605</td>\n",
       "    </tr>\n",
       "    <tr>\n",
       "      <th>99</th>\n",
       "      <td>Team A</td>\n",
       "      <td>-22.9</td>\n",
       "      <td>4.5</td>\n",
       "      <td>1</td>\n",
       "      <td>23.337952</td>\n",
       "    </tr>\n",
       "    <tr>\n",
       "      <th>118</th>\n",
       "      <td>Team A</td>\n",
       "      <td>-22.8</td>\n",
       "      <td>4.6</td>\n",
       "      <td>1</td>\n",
       "      <td>23.259407</td>\n",
       "    </tr>\n",
       "    <tr>\n",
       "      <th>134</th>\n",
       "      <td>Team A</td>\n",
       "      <td>-22.9</td>\n",
       "      <td>0.6</td>\n",
       "      <td>1</td>\n",
       "      <td>22.907859</td>\n",
       "    </tr>\n",
       "    <tr>\n",
       "      <th>193</th>\n",
       "      <td>Team A</td>\n",
       "      <td>-23.4</td>\n",
       "      <td>-1.1</td>\n",
       "      <td>0</td>\n",
       "      <td>23.425840</td>\n",
       "    </tr>\n",
       "    <tr>\n",
       "      <th>196</th>\n",
       "      <td>Team A</td>\n",
       "      <td>-22.1</td>\n",
       "      <td>1.2</td>\n",
       "      <td>1</td>\n",
       "      <td>22.132555</td>\n",
       "    </tr>\n",
       "    <tr>\n",
       "      <th>207</th>\n",
       "      <td>Team A</td>\n",
       "      <td>-23.0</td>\n",
       "      <td>0.8</td>\n",
       "      <td>1</td>\n",
       "      <td>23.013909</td>\n",
       "    </tr>\n",
       "    <tr>\n",
       "      <th>221</th>\n",
       "      <td>Team A</td>\n",
       "      <td>-22.2</td>\n",
       "      <td>3.9</td>\n",
       "      <td>0</td>\n",
       "      <td>22.539965</td>\n",
       "    </tr>\n",
       "  </tbody>\n",
       "</table>\n",
       "</div>"
      ],
      "text/plain": [
       "       team     x    y  fgmade          d\n",
       "36   Team A -22.3 -0.8       1  22.314345\n",
       "38   Team A -23.9  7.8       1  25.140605\n",
       "99   Team A -22.9  4.5       1  23.337952\n",
       "118  Team A -22.8  4.6       1  23.259407\n",
       "134  Team A -22.9  0.6       1  22.907859\n",
       "193  Team A -23.4 -1.1       0  23.425840\n",
       "196  Team A -22.1  1.2       1  22.132555\n",
       "207  Team A -23.0  0.8       1  23.013909\n",
       "221  Team A -22.2  3.9       0  22.539965"
      ]
     },
     "execution_count": 15,
     "metadata": {},
     "output_type": "execute_result"
    }
   ],
   "source": [
    "# Left Corner\n",
    "left_corner_A = teamA_shots.loc[idx1]\n",
    "left_corner_A"
   ]
  },
  {
   "cell_type": "code",
   "execution_count": 16,
   "id": "9645ec88",
   "metadata": {},
   "outputs": [
    {
     "data": {
      "text/plain": [
       "team      9\n",
       "x         9\n",
       "y         9\n",
       "fgmade    9\n",
       "d         9\n",
       "dtype: int64"
      ]
     },
     "execution_count": 16,
     "metadata": {},
     "output_type": "execute_result"
    }
   ],
   "source": [
    "left_corner_A.count()"
   ]
  },
  {
   "cell_type": "code",
   "execution_count": 17,
   "id": "419514da",
   "metadata": {},
   "outputs": [
    {
     "data": {
      "text/html": [
       "<div>\n",
       "<style scoped>\n",
       "    .dataframe tbody tr th:only-of-type {\n",
       "        vertical-align: middle;\n",
       "    }\n",
       "\n",
       "    .dataframe tbody tr th {\n",
       "        vertical-align: top;\n",
       "    }\n",
       "\n",
       "    .dataframe thead th {\n",
       "        text-align: right;\n",
       "    }\n",
       "</style>\n",
       "<table border=\"1\" class=\"dataframe\">\n",
       "  <thead>\n",
       "    <tr style=\"text-align: right;\">\n",
       "      <th></th>\n",
       "      <th>team</th>\n",
       "      <th>x</th>\n",
       "      <th>y</th>\n",
       "      <th>fgmade</th>\n",
       "      <th>d</th>\n",
       "    </tr>\n",
       "  </thead>\n",
       "  <tbody>\n",
       "    <tr>\n",
       "      <th>32</th>\n",
       "      <td>Team A</td>\n",
       "      <td>23.1</td>\n",
       "      <td>-1.2</td>\n",
       "      <td>0</td>\n",
       "      <td>23.131148</td>\n",
       "    </tr>\n",
       "    <tr>\n",
       "      <th>122</th>\n",
       "      <td>Team A</td>\n",
       "      <td>23.4</td>\n",
       "      <td>4.5</td>\n",
       "      <td>0</td>\n",
       "      <td>23.828764</td>\n",
       "    </tr>\n",
       "    <tr>\n",
       "      <th>124</th>\n",
       "      <td>Team A</td>\n",
       "      <td>23.1</td>\n",
       "      <td>2.3</td>\n",
       "      <td>0</td>\n",
       "      <td>23.214220</td>\n",
       "    </tr>\n",
       "    <tr>\n",
       "      <th>125</th>\n",
       "      <td>Team A</td>\n",
       "      <td>23.2</td>\n",
       "      <td>2.4</td>\n",
       "      <td>0</td>\n",
       "      <td>23.323808</td>\n",
       "    </tr>\n",
       "    <tr>\n",
       "      <th>131</th>\n",
       "      <td>Team A</td>\n",
       "      <td>22.4</td>\n",
       "      <td>5.5</td>\n",
       "      <td>1</td>\n",
       "      <td>23.065342</td>\n",
       "    </tr>\n",
       "    <tr>\n",
       "      <th>137</th>\n",
       "      <td>Team A</td>\n",
       "      <td>22.7</td>\n",
       "      <td>3.8</td>\n",
       "      <td>0</td>\n",
       "      <td>23.015864</td>\n",
       "    </tr>\n",
       "    <tr>\n",
       "      <th>194</th>\n",
       "      <td>Team A</td>\n",
       "      <td>23.8</td>\n",
       "      <td>0.8</td>\n",
       "      <td>1</td>\n",
       "      <td>23.813442</td>\n",
       "    </tr>\n",
       "    <tr>\n",
       "      <th>200</th>\n",
       "      <td>Team A</td>\n",
       "      <td>22.3</td>\n",
       "      <td>6.2</td>\n",
       "      <td>0</td>\n",
       "      <td>23.145842</td>\n",
       "    </tr>\n",
       "    <tr>\n",
       "      <th>227</th>\n",
       "      <td>Team A</td>\n",
       "      <td>22.8</td>\n",
       "      <td>0.0</td>\n",
       "      <td>0</td>\n",
       "      <td>22.800000</td>\n",
       "    </tr>\n",
       "  </tbody>\n",
       "</table>\n",
       "</div>"
      ],
      "text/plain": [
       "       team     x    y  fgmade          d\n",
       "32   Team A  23.1 -1.2       0  23.131148\n",
       "122  Team A  23.4  4.5       0  23.828764\n",
       "124  Team A  23.1  2.3       0  23.214220\n",
       "125  Team A  23.2  2.4       0  23.323808\n",
       "131  Team A  22.4  5.5       1  23.065342\n",
       "137  Team A  22.7  3.8       0  23.015864\n",
       "194  Team A  23.8  0.8       1  23.813442\n",
       "200  Team A  22.3  6.2       0  23.145842\n",
       "227  Team A  22.8  0.0       0  22.800000"
      ]
     },
     "execution_count": 17,
     "metadata": {},
     "output_type": "execute_result"
    }
   ],
   "source": [
    "# Right Corner\n",
    "right_corner_A = teamA_shots.loc[idx2]\n",
    "right_corner_A"
   ]
  },
  {
   "cell_type": "code",
   "execution_count": 18,
   "id": "ca99b3c0",
   "metadata": {},
   "outputs": [
    {
     "data": {
      "text/plain": [
       "team      9\n",
       "x         9\n",
       "y         9\n",
       "fgmade    9\n",
       "d         9\n",
       "dtype: int64"
      ]
     },
     "execution_count": 18,
     "metadata": {},
     "output_type": "execute_result"
    }
   ],
   "source": [
    "right_corner_A.count()"
   ]
  },
  {
   "cell_type": "code",
   "execution_count": 19,
   "id": "7f8fa176",
   "metadata": {},
   "outputs": [
    {
     "data": {
      "text/html": [
       "<div>\n",
       "<style scoped>\n",
       "    .dataframe tbody tr th:only-of-type {\n",
       "        vertical-align: middle;\n",
       "    }\n",
       "\n",
       "    .dataframe tbody tr th {\n",
       "        vertical-align: top;\n",
       "    }\n",
       "\n",
       "    .dataframe thead th {\n",
       "        text-align: right;\n",
       "    }\n",
       "</style>\n",
       "<table border=\"1\" class=\"dataframe\">\n",
       "  <thead>\n",
       "    <tr style=\"text-align: right;\">\n",
       "      <th></th>\n",
       "      <th>team</th>\n",
       "      <th>x</th>\n",
       "      <th>y</th>\n",
       "      <th>fgmade</th>\n",
       "      <th>d</th>\n",
       "    </tr>\n",
       "  </thead>\n",
       "  <tbody>\n",
       "    <tr>\n",
       "      <th>36</th>\n",
       "      <td>Team A</td>\n",
       "      <td>-22.3</td>\n",
       "      <td>-0.8</td>\n",
       "      <td>1</td>\n",
       "      <td>22.314345</td>\n",
       "    </tr>\n",
       "    <tr>\n",
       "      <th>38</th>\n",
       "      <td>Team A</td>\n",
       "      <td>-23.9</td>\n",
       "      <td>7.8</td>\n",
       "      <td>1</td>\n",
       "      <td>25.140605</td>\n",
       "    </tr>\n",
       "    <tr>\n",
       "      <th>99</th>\n",
       "      <td>Team A</td>\n",
       "      <td>-22.9</td>\n",
       "      <td>4.5</td>\n",
       "      <td>1</td>\n",
       "      <td>23.337952</td>\n",
       "    </tr>\n",
       "    <tr>\n",
       "      <th>118</th>\n",
       "      <td>Team A</td>\n",
       "      <td>-22.8</td>\n",
       "      <td>4.6</td>\n",
       "      <td>1</td>\n",
       "      <td>23.259407</td>\n",
       "    </tr>\n",
       "    <tr>\n",
       "      <th>134</th>\n",
       "      <td>Team A</td>\n",
       "      <td>-22.9</td>\n",
       "      <td>0.6</td>\n",
       "      <td>1</td>\n",
       "      <td>22.907859</td>\n",
       "    </tr>\n",
       "    <tr>\n",
       "      <th>193</th>\n",
       "      <td>Team A</td>\n",
       "      <td>-23.4</td>\n",
       "      <td>-1.1</td>\n",
       "      <td>0</td>\n",
       "      <td>23.425840</td>\n",
       "    </tr>\n",
       "    <tr>\n",
       "      <th>196</th>\n",
       "      <td>Team A</td>\n",
       "      <td>-22.1</td>\n",
       "      <td>1.2</td>\n",
       "      <td>1</td>\n",
       "      <td>22.132555</td>\n",
       "    </tr>\n",
       "    <tr>\n",
       "      <th>207</th>\n",
       "      <td>Team A</td>\n",
       "      <td>-23.0</td>\n",
       "      <td>0.8</td>\n",
       "      <td>1</td>\n",
       "      <td>23.013909</td>\n",
       "    </tr>\n",
       "    <tr>\n",
       "      <th>221</th>\n",
       "      <td>Team A</td>\n",
       "      <td>-22.2</td>\n",
       "      <td>3.9</td>\n",
       "      <td>0</td>\n",
       "      <td>22.539965</td>\n",
       "    </tr>\n",
       "    <tr>\n",
       "      <th>32</th>\n",
       "      <td>Team A</td>\n",
       "      <td>23.1</td>\n",
       "      <td>-1.2</td>\n",
       "      <td>0</td>\n",
       "      <td>23.131148</td>\n",
       "    </tr>\n",
       "    <tr>\n",
       "      <th>122</th>\n",
       "      <td>Team A</td>\n",
       "      <td>23.4</td>\n",
       "      <td>4.5</td>\n",
       "      <td>0</td>\n",
       "      <td>23.828764</td>\n",
       "    </tr>\n",
       "    <tr>\n",
       "      <th>124</th>\n",
       "      <td>Team A</td>\n",
       "      <td>23.1</td>\n",
       "      <td>2.3</td>\n",
       "      <td>0</td>\n",
       "      <td>23.214220</td>\n",
       "    </tr>\n",
       "    <tr>\n",
       "      <th>125</th>\n",
       "      <td>Team A</td>\n",
       "      <td>23.2</td>\n",
       "      <td>2.4</td>\n",
       "      <td>0</td>\n",
       "      <td>23.323808</td>\n",
       "    </tr>\n",
       "    <tr>\n",
       "      <th>131</th>\n",
       "      <td>Team A</td>\n",
       "      <td>22.4</td>\n",
       "      <td>5.5</td>\n",
       "      <td>1</td>\n",
       "      <td>23.065342</td>\n",
       "    </tr>\n",
       "    <tr>\n",
       "      <th>137</th>\n",
       "      <td>Team A</td>\n",
       "      <td>22.7</td>\n",
       "      <td>3.8</td>\n",
       "      <td>0</td>\n",
       "      <td>23.015864</td>\n",
       "    </tr>\n",
       "    <tr>\n",
       "      <th>194</th>\n",
       "      <td>Team A</td>\n",
       "      <td>23.8</td>\n",
       "      <td>0.8</td>\n",
       "      <td>1</td>\n",
       "      <td>23.813442</td>\n",
       "    </tr>\n",
       "    <tr>\n",
       "      <th>200</th>\n",
       "      <td>Team A</td>\n",
       "      <td>22.3</td>\n",
       "      <td>6.2</td>\n",
       "      <td>0</td>\n",
       "      <td>23.145842</td>\n",
       "    </tr>\n",
       "    <tr>\n",
       "      <th>227</th>\n",
       "      <td>Team A</td>\n",
       "      <td>22.8</td>\n",
       "      <td>0.0</td>\n",
       "      <td>0</td>\n",
       "      <td>22.800000</td>\n",
       "    </tr>\n",
       "  </tbody>\n",
       "</table>\n",
       "</div>"
      ],
      "text/plain": [
       "       team     x    y  fgmade          d\n",
       "36   Team A -22.3 -0.8       1  22.314345\n",
       "38   Team A -23.9  7.8       1  25.140605\n",
       "99   Team A -22.9  4.5       1  23.337952\n",
       "118  Team A -22.8  4.6       1  23.259407\n",
       "134  Team A -22.9  0.6       1  22.907859\n",
       "193  Team A -23.4 -1.1       0  23.425840\n",
       "196  Team A -22.1  1.2       1  22.132555\n",
       "207  Team A -23.0  0.8       1  23.013909\n",
       "221  Team A -22.2  3.9       0  22.539965\n",
       "32   Team A  23.1 -1.2       0  23.131148\n",
       "122  Team A  23.4  4.5       0  23.828764\n",
       "124  Team A  23.1  2.3       0  23.214220\n",
       "125  Team A  23.2  2.4       0  23.323808\n",
       "131  Team A  22.4  5.5       1  23.065342\n",
       "137  Team A  22.7  3.8       0  23.015864\n",
       "194  Team A  23.8  0.8       1  23.813442\n",
       "200  Team A  22.3  6.2       0  23.145842\n",
       "227  Team A  22.8  0.0       0  22.800000"
      ]
     },
     "execution_count": 19,
     "metadata": {},
     "output_type": "execute_result"
    }
   ],
   "source": [
    "teamA_C3 = pd.concat([left_corner_A, right_corner_A])\n",
    "teamA_C3"
   ]
  },
  {
   "cell_type": "code",
   "execution_count": 20,
   "id": "6db35cbf",
   "metadata": {},
   "outputs": [
    {
     "data": {
      "text/plain": [
       "team      18\n",
       "x         18\n",
       "y         18\n",
       "fgmade    18\n",
       "d         18\n",
       "dtype: int64"
      ]
     },
     "execution_count": 20,
     "metadata": {},
     "output_type": "execute_result"
    }
   ],
   "source": [
    "teamA_C3.count()"
   ]
  },
  {
   "cell_type": "code",
   "execution_count": 21,
   "id": "411de814",
   "metadata": {},
   "outputs": [
    {
     "data": {
      "text/plain": [
       "280"
      ]
     },
     "execution_count": 21,
     "metadata": {},
     "output_type": "execute_result"
    }
   ],
   "source": [
    "TeamA_total = teamA_shots[\"fgmade\"].count()\n",
    "TeamA_total"
   ]
  },
  {
   "cell_type": "code",
   "execution_count": 22,
   "id": "21b11644",
   "metadata": {},
   "outputs": [
    {
     "data": {
      "text/plain": [
       "18"
      ]
     },
     "execution_count": 22,
     "metadata": {},
     "output_type": "execute_result"
    }
   ],
   "source": [
    "AC3_total = teamA_C3[\"fgmade\"].count()\n",
    "AC3_total"
   ]
  },
  {
   "cell_type": "code",
   "execution_count": 23,
   "id": "f3aeff34",
   "metadata": {},
   "outputs": [
    {
     "data": {
      "text/plain": [
       "6.428571428571428"
      ]
     },
     "execution_count": 23,
     "metadata": {},
     "output_type": "execute_result"
    }
   ],
   "source": [
    "# Percentage of shots taken for Team A Corner 3\n",
    "Corner_3_percentageA = AC3_total / float(TeamA_total) * 100\n",
    "Corner_3_percentageA"
   ]
  },
  {
   "cell_type": "code",
   "execution_count": 24,
   "id": "d0e1633c",
   "metadata": {},
   "outputs": [
    {
     "data": {
      "text/plain": [
       "9"
      ]
     },
     "execution_count": 24,
     "metadata": {},
     "output_type": "execute_result"
    }
   ],
   "source": [
    "a = (teamA_C3[\"fgmade\"] == 1).sum()\n",
    "a"
   ]
  },
  {
   "cell_type": "code",
   "execution_count": 25,
   "id": "0aca31b0",
   "metadata": {},
   "outputs": [
    {
     "data": {
      "text/plain": [
       "0.75"
      ]
     },
     "execution_count": 25,
     "metadata": {},
     "output_type": "execute_result"
    }
   ],
   "source": [
    "# EFG for Corner 3 of Team A\n",
    "efgAC3 = (a + (0.5 * a)) / AC3_total\n",
    "efgAC3"
   ]
  },
  {
   "cell_type": "markdown",
   "id": "a80f6200",
   "metadata": {},
   "source": [
    "## 2 Point shots for Team A"
   ]
  },
  {
   "cell_type": "code",
   "execution_count": 26,
   "id": "324d5aa5",
   "metadata": {},
   "outputs": [
    {
     "data": {
      "text/plain": [
       "(array([  1,   2,   4,   7,   8,   9,  10,  11,  12,  13,  14,  15,  16,\n",
       "         19,  20,  22,  23,  24,  26,  27,  28,  29,  30,  31,  33,  37,\n",
       "         39,  40,  41,  42,  43,  44,  47,  48,  49,  50,  51,  53,  54,\n",
       "         57,  58,  59,  61,  62,  63,  64,  66,  67,  68,  69,  70,  71,\n",
       "         72,  73,  74,  75,  76,  77,  78,  79,  80,  81,  82,  83,  84,\n",
       "         85,  86,  87,  88,  89,  90,  91,  92,  93,  95,  96,  97,  98,\n",
       "        100, 101, 102, 103, 107, 108, 109, 110, 112, 115, 119, 127, 129,\n",
       "        130, 135, 136, 138, 139, 140, 141, 143, 144, 145, 148, 149, 150,\n",
       "        153, 154, 155, 157, 158, 159, 160, 161, 162, 163, 164, 165, 166,\n",
       "        168, 171, 172, 173, 174, 175, 176, 177, 178, 179, 180, 181, 182,\n",
       "        183, 185, 186, 187, 188, 191, 201, 202, 203, 205, 209, 211, 212,\n",
       "        213, 214, 215, 217, 218, 219, 220, 222, 225, 226, 228, 229, 230,\n",
       "        231, 235, 236, 237, 238, 239, 240, 241, 242, 243, 244, 245, 246,\n",
       "        247, 248, 249, 251, 252, 253, 254, 255, 256, 257, 259, 260, 262,\n",
       "        264, 265, 266, 268, 269, 271, 272, 273, 276, 277, 278, 279],\n",
       "       dtype=int64),)"
      ]
     },
     "execution_count": 26,
     "metadata": {},
     "output_type": "execute_result"
    }
   ],
   "source": [
    "# 2 point shots\n",
    "idx3 = np.where((teamA_shots[\"x\"] >= -22.0) & (teamA_shots[\"x\"] <= 22.0) & (teamA_shots[\"d\"] <= 23.75))\n",
    "idx3"
   ]
  },
  {
   "cell_type": "code",
   "execution_count": 27,
   "id": "8be498d7",
   "metadata": {},
   "outputs": [
    {
     "data": {
      "text/html": [
       "<div>\n",
       "<style scoped>\n",
       "    .dataframe tbody tr th:only-of-type {\n",
       "        vertical-align: middle;\n",
       "    }\n",
       "\n",
       "    .dataframe tbody tr th {\n",
       "        vertical-align: top;\n",
       "    }\n",
       "\n",
       "    .dataframe thead th {\n",
       "        text-align: right;\n",
       "    }\n",
       "</style>\n",
       "<table border=\"1\" class=\"dataframe\">\n",
       "  <thead>\n",
       "    <tr style=\"text-align: right;\">\n",
       "      <th></th>\n",
       "      <th>team</th>\n",
       "      <th>x</th>\n",
       "      <th>y</th>\n",
       "      <th>fgmade</th>\n",
       "      <th>d</th>\n",
       "    </tr>\n",
       "  </thead>\n",
       "  <tbody>\n",
       "    <tr>\n",
       "      <th>1</th>\n",
       "      <td>Team A</td>\n",
       "      <td>-0.8</td>\n",
       "      <td>1.2</td>\n",
       "      <td>1</td>\n",
       "      <td>1.442221</td>\n",
       "    </tr>\n",
       "    <tr>\n",
       "      <th>2</th>\n",
       "      <td>Team A</td>\n",
       "      <td>-13.9</td>\n",
       "      <td>9.5</td>\n",
       "      <td>1</td>\n",
       "      <td>16.836270</td>\n",
       "    </tr>\n",
       "    <tr>\n",
       "      <th>4</th>\n",
       "      <td>Team A</td>\n",
       "      <td>-4.9</td>\n",
       "      <td>14.5</td>\n",
       "      <td>1</td>\n",
       "      <td>15.305555</td>\n",
       "    </tr>\n",
       "    <tr>\n",
       "      <th>7</th>\n",
       "      <td>Team A</td>\n",
       "      <td>-7.3</td>\n",
       "      <td>5.7</td>\n",
       "      <td>0</td>\n",
       "      <td>9.261749</td>\n",
       "    </tr>\n",
       "    <tr>\n",
       "      <th>8</th>\n",
       "      <td>Team A</td>\n",
       "      <td>-2.8</td>\n",
       "      <td>11.0</td>\n",
       "      <td>1</td>\n",
       "      <td>11.350771</td>\n",
       "    </tr>\n",
       "    <tr>\n",
       "      <th>...</th>\n",
       "      <td>...</td>\n",
       "      <td>...</td>\n",
       "      <td>...</td>\n",
       "      <td>...</td>\n",
       "      <td>...</td>\n",
       "    </tr>\n",
       "    <tr>\n",
       "      <th>273</th>\n",
       "      <td>Team A</td>\n",
       "      <td>-5.0</td>\n",
       "      <td>2.9</td>\n",
       "      <td>0</td>\n",
       "      <td>5.780138</td>\n",
       "    </tr>\n",
       "    <tr>\n",
       "      <th>276</th>\n",
       "      <td>Team A</td>\n",
       "      <td>4.2</td>\n",
       "      <td>10.3</td>\n",
       "      <td>1</td>\n",
       "      <td>11.123399</td>\n",
       "    </tr>\n",
       "    <tr>\n",
       "      <th>277</th>\n",
       "      <td>Team A</td>\n",
       "      <td>-9.0</td>\n",
       "      <td>1.2</td>\n",
       "      <td>1</td>\n",
       "      <td>9.079648</td>\n",
       "    </tr>\n",
       "    <tr>\n",
       "      <th>278</th>\n",
       "      <td>Team A</td>\n",
       "      <td>1.4</td>\n",
       "      <td>-0.1</td>\n",
       "      <td>0</td>\n",
       "      <td>1.403567</td>\n",
       "    </tr>\n",
       "    <tr>\n",
       "      <th>279</th>\n",
       "      <td>Team A</td>\n",
       "      <td>2.4</td>\n",
       "      <td>6.6</td>\n",
       "      <td>1</td>\n",
       "      <td>7.022820</td>\n",
       "    </tr>\n",
       "  </tbody>\n",
       "</table>\n",
       "<p>194 rows × 5 columns</p>\n",
       "</div>"
      ],
      "text/plain": [
       "       team     x     y  fgmade          d\n",
       "1    Team A  -0.8   1.2       1   1.442221\n",
       "2    Team A -13.9   9.5       1  16.836270\n",
       "4    Team A  -4.9  14.5       1  15.305555\n",
       "7    Team A  -7.3   5.7       0   9.261749\n",
       "8    Team A  -2.8  11.0       1  11.350771\n",
       "..      ...   ...   ...     ...        ...\n",
       "273  Team A  -5.0   2.9       0   5.780138\n",
       "276  Team A   4.2  10.3       1  11.123399\n",
       "277  Team A  -9.0   1.2       1   9.079648\n",
       "278  Team A   1.4  -0.1       0   1.403567\n",
       "279  Team A   2.4   6.6       1   7.022820\n",
       "\n",
       "[194 rows x 5 columns]"
      ]
     },
     "execution_count": 27,
     "metadata": {},
     "output_type": "execute_result"
    }
   ],
   "source": [
    "teamA_2 = teamA_shots.loc[idx3]\n",
    "teamA_2"
   ]
  },
  {
   "cell_type": "code",
   "execution_count": 28,
   "id": "615b92aa",
   "metadata": {},
   "outputs": [
    {
     "data": {
      "text/plain": [
       "194"
      ]
     },
     "execution_count": 28,
     "metadata": {},
     "output_type": "execute_result"
    }
   ],
   "source": [
    "A2_total = teamA_2[\"fgmade\"].count()\n",
    "A2_total"
   ]
  },
  {
   "cell_type": "code",
   "execution_count": 29,
   "id": "9f058a45",
   "metadata": {},
   "outputs": [
    {
     "data": {
      "text/plain": [
       "69.28571428571428"
      ]
     },
     "execution_count": 29,
     "metadata": {},
     "output_type": "execute_result"
    }
   ],
   "source": [
    "# Percentage of shots taken for Team A 2 pointers\n",
    "twopoint_percentageA = A2_total / float(TeamA_total) * 100\n",
    "twopoint_percentageA"
   ]
  },
  {
   "cell_type": "code",
   "execution_count": 30,
   "id": "a91b3b6e",
   "metadata": {},
   "outputs": [
    {
     "data": {
      "text/plain": [
       "95"
      ]
     },
     "execution_count": 30,
     "metadata": {},
     "output_type": "execute_result"
    }
   ],
   "source": [
    "b = (teamA_2[\"fgmade\"] == 1).sum()\n",
    "b"
   ]
  },
  {
   "cell_type": "code",
   "execution_count": 31,
   "id": "f7a0dd72",
   "metadata": {},
   "outputs": [
    {
     "data": {
      "text/plain": [
       "0.4896907216494845"
      ]
     },
     "execution_count": 31,
     "metadata": {},
     "output_type": "execute_result"
    }
   ],
   "source": [
    "# efg for 2 pointers\n",
    "efgA2 = b / A2_total\n",
    "efgA2"
   ]
  },
  {
   "cell_type": "markdown",
   "id": "8c9aad05",
   "metadata": {},
   "source": [
    "## Non Corner 3 for Team A"
   ]
  },
  {
   "cell_type": "code",
   "execution_count": 32,
   "id": "8b832cd4",
   "metadata": {},
   "outputs": [
    {
     "data": {
      "text/plain": [
       "(array([  0,   3,   5,   6,  17,  18,  21,  25,  34,  35,  45,  46,  52,\n",
       "         55,  56,  60,  65,  94, 104, 105, 106, 111, 113, 114, 116, 117,\n",
       "        120, 121, 123, 126, 128, 132, 133, 142, 146, 147, 151, 152, 156,\n",
       "        167, 169, 170, 184, 189, 190, 192, 195, 197, 198, 199, 204, 206,\n",
       "        208, 210, 216, 223, 224, 232, 233, 234, 250, 258, 261, 263, 267,\n",
       "        270, 274, 275], dtype=int64),)"
      ]
     },
     "execution_count": 32,
     "metadata": {},
     "output_type": "execute_result"
    }
   ],
   "source": [
    "# NC3 point shots\n",
    "idx4 = np.where((teamA_shots[\"y\"] > 7.8) & (teamA_shots[\"d\"] > 23.75))\n",
    "idx4"
   ]
  },
  {
   "cell_type": "code",
   "execution_count": 33,
   "id": "f8e2e442",
   "metadata": {},
   "outputs": [
    {
     "data": {
      "text/html": [
       "<div>\n",
       "<style scoped>\n",
       "    .dataframe tbody tr th:only-of-type {\n",
       "        vertical-align: middle;\n",
       "    }\n",
       "\n",
       "    .dataframe tbody tr th {\n",
       "        vertical-align: top;\n",
       "    }\n",
       "\n",
       "    .dataframe thead th {\n",
       "        text-align: right;\n",
       "    }\n",
       "</style>\n",
       "<table border=\"1\" class=\"dataframe\">\n",
       "  <thead>\n",
       "    <tr style=\"text-align: right;\">\n",
       "      <th></th>\n",
       "      <th>team</th>\n",
       "      <th>x</th>\n",
       "      <th>y</th>\n",
       "      <th>fgmade</th>\n",
       "      <th>d</th>\n",
       "    </tr>\n",
       "  </thead>\n",
       "  <tbody>\n",
       "    <tr>\n",
       "      <th>0</th>\n",
       "      <td>Team A</td>\n",
       "      <td>-5.0</td>\n",
       "      <td>26.4</td>\n",
       "      <td>0</td>\n",
       "      <td>26.869313</td>\n",
       "    </tr>\n",
       "    <tr>\n",
       "      <th>3</th>\n",
       "      <td>Team A</td>\n",
       "      <td>-5.4</td>\n",
       "      <td>26.2</td>\n",
       "      <td>0</td>\n",
       "      <td>26.750701</td>\n",
       "    </tr>\n",
       "    <tr>\n",
       "      <th>5</th>\n",
       "      <td>Team A</td>\n",
       "      <td>-10.9</td>\n",
       "      <td>23.9</td>\n",
       "      <td>1</td>\n",
       "      <td>26.268232</td>\n",
       "    </tr>\n",
       "    <tr>\n",
       "      <th>6</th>\n",
       "      <td>Team A</td>\n",
       "      <td>-12.0</td>\n",
       "      <td>23.6</td>\n",
       "      <td>1</td>\n",
       "      <td>26.475649</td>\n",
       "    </tr>\n",
       "    <tr>\n",
       "      <th>17</th>\n",
       "      <td>Team A</td>\n",
       "      <td>-8.2</td>\n",
       "      <td>24.8</td>\n",
       "      <td>0</td>\n",
       "      <td>26.120490</td>\n",
       "    </tr>\n",
       "    <tr>\n",
       "      <th>...</th>\n",
       "      <td>...</td>\n",
       "      <td>...</td>\n",
       "      <td>...</td>\n",
       "      <td>...</td>\n",
       "      <td>...</td>\n",
       "    </tr>\n",
       "    <tr>\n",
       "      <th>263</th>\n",
       "      <td>Team A</td>\n",
       "      <td>-5.9</td>\n",
       "      <td>24.0</td>\n",
       "      <td>0</td>\n",
       "      <td>24.714571</td>\n",
       "    </tr>\n",
       "    <tr>\n",
       "      <th>267</th>\n",
       "      <td>Team A</td>\n",
       "      <td>15.2</td>\n",
       "      <td>19.9</td>\n",
       "      <td>1</td>\n",
       "      <td>25.040966</td>\n",
       "    </tr>\n",
       "    <tr>\n",
       "      <th>270</th>\n",
       "      <td>Team A</td>\n",
       "      <td>10.4</td>\n",
       "      <td>23.6</td>\n",
       "      <td>0</td>\n",
       "      <td>25.789921</td>\n",
       "    </tr>\n",
       "    <tr>\n",
       "      <th>274</th>\n",
       "      <td>Team A</td>\n",
       "      <td>-10.9</td>\n",
       "      <td>24.5</td>\n",
       "      <td>1</td>\n",
       "      <td>26.815294</td>\n",
       "    </tr>\n",
       "    <tr>\n",
       "      <th>275</th>\n",
       "      <td>Team A</td>\n",
       "      <td>-2.7</td>\n",
       "      <td>24.5</td>\n",
       "      <td>0</td>\n",
       "      <td>24.648327</td>\n",
       "    </tr>\n",
       "  </tbody>\n",
       "</table>\n",
       "<p>68 rows × 5 columns</p>\n",
       "</div>"
      ],
      "text/plain": [
       "       team     x     y  fgmade          d\n",
       "0    Team A  -5.0  26.4       0  26.869313\n",
       "3    Team A  -5.4  26.2       0  26.750701\n",
       "5    Team A -10.9  23.9       1  26.268232\n",
       "6    Team A -12.0  23.6       1  26.475649\n",
       "17   Team A  -8.2  24.8       0  26.120490\n",
       "..      ...   ...   ...     ...        ...\n",
       "263  Team A  -5.9  24.0       0  24.714571\n",
       "267  Team A  15.2  19.9       1  25.040966\n",
       "270  Team A  10.4  23.6       0  25.789921\n",
       "274  Team A -10.9  24.5       1  26.815294\n",
       "275  Team A  -2.7  24.5       0  24.648327\n",
       "\n",
       "[68 rows x 5 columns]"
      ]
     },
     "execution_count": 33,
     "metadata": {},
     "output_type": "execute_result"
    }
   ],
   "source": [
    "teamA_NC3 = teamA_shots.loc[idx4]\n",
    "teamA_NC3"
   ]
  },
  {
   "cell_type": "code",
   "execution_count": 34,
   "id": "f0ea9317",
   "metadata": {},
   "outputs": [
    {
     "data": {
      "text/plain": [
       "68"
      ]
     },
     "execution_count": 34,
     "metadata": {},
     "output_type": "execute_result"
    }
   ],
   "source": [
    "ANC3_total = teamA_NC3[\"fgmade\"].count()\n",
    "ANC3_total"
   ]
  },
  {
   "cell_type": "code",
   "execution_count": 35,
   "id": "20dc0f7d",
   "metadata": {},
   "outputs": [
    {
     "data": {
      "text/plain": [
       "24.285714285714285"
      ]
     },
     "execution_count": 35,
     "metadata": {},
     "output_type": "execute_result"
    }
   ],
   "source": [
    "# Percentage for Non Corner 3 for Team A\n",
    "NC3_A_percentage = ANC3_total / float(TeamA_total) * 100\n",
    "NC3_A_percentage"
   ]
  },
  {
   "cell_type": "code",
   "execution_count": 36,
   "id": "33ca82f8",
   "metadata": {},
   "outputs": [
    {
     "data": {
      "text/plain": [
       "21"
      ]
     },
     "execution_count": 36,
     "metadata": {},
     "output_type": "execute_result"
    }
   ],
   "source": [
    "c = (teamA_NC3[\"fgmade\"] == 1).sum()\n",
    "c"
   ]
  },
  {
   "cell_type": "code",
   "execution_count": 37,
   "id": "fa2cef88",
   "metadata": {},
   "outputs": [
    {
     "data": {
      "text/plain": [
       "0.4632352941176471"
      ]
     },
     "execution_count": 37,
     "metadata": {},
     "output_type": "execute_result"
    }
   ],
   "source": [
    "# efg for Non Corner 3 pointers\n",
    "efgANC3 = (c + (0.5 * c)) / ANC3_total\n",
    "efgANC3"
   ]
  },
  {
   "cell_type": "markdown",
   "id": "807260e1",
   "metadata": {},
   "source": [
    "# Team B"
   ]
  },
  {
   "cell_type": "code",
   "execution_count": 38,
   "id": "c53f396d",
   "metadata": {},
   "outputs": [
    {
     "data": {
      "text/html": [
       "<div>\n",
       "<style scoped>\n",
       "    .dataframe tbody tr th:only-of-type {\n",
       "        vertical-align: middle;\n",
       "    }\n",
       "\n",
       "    .dataframe tbody tr th {\n",
       "        vertical-align: top;\n",
       "    }\n",
       "\n",
       "    .dataframe thead th {\n",
       "        text-align: right;\n",
       "    }\n",
       "</style>\n",
       "<table border=\"1\" class=\"dataframe\">\n",
       "  <thead>\n",
       "    <tr style=\"text-align: right;\">\n",
       "      <th></th>\n",
       "      <th>team</th>\n",
       "      <th>x</th>\n",
       "      <th>y</th>\n",
       "      <th>fgmade</th>\n",
       "      <th>d</th>\n",
       "    </tr>\n",
       "  </thead>\n",
       "  <tbody>\n",
       "    <tr>\n",
       "      <th>280</th>\n",
       "      <td>Team B</td>\n",
       "      <td>-2.9</td>\n",
       "      <td>16.7</td>\n",
       "      <td>0</td>\n",
       "      <td>16.949926</td>\n",
       "    </tr>\n",
       "    <tr>\n",
       "      <th>281</th>\n",
       "      <td>Team B</td>\n",
       "      <td>10.3</td>\n",
       "      <td>24.7</td>\n",
       "      <td>0</td>\n",
       "      <td>26.761540</td>\n",
       "    </tr>\n",
       "    <tr>\n",
       "      <th>282</th>\n",
       "      <td>Team B</td>\n",
       "      <td>-3.5</td>\n",
       "      <td>5.3</td>\n",
       "      <td>1</td>\n",
       "      <td>6.351378</td>\n",
       "    </tr>\n",
       "    <tr>\n",
       "      <th>283</th>\n",
       "      <td>Team B</td>\n",
       "      <td>0.9</td>\n",
       "      <td>1.5</td>\n",
       "      <td>0</td>\n",
       "      <td>1.749286</td>\n",
       "    </tr>\n",
       "    <tr>\n",
       "      <th>284</th>\n",
       "      <td>Team B</td>\n",
       "      <td>22.8</td>\n",
       "      <td>-1.5</td>\n",
       "      <td>0</td>\n",
       "      <td>22.849289</td>\n",
       "    </tr>\n",
       "  </tbody>\n",
       "</table>\n",
       "</div>"
      ],
      "text/plain": [
       "       team     x     y  fgmade          d\n",
       "280  Team B  -2.9  16.7       0  16.949926\n",
       "281  Team B  10.3  24.7       0  26.761540\n",
       "282  Team B  -3.5   5.3       1   6.351378\n",
       "283  Team B   0.9   1.5       0   1.749286\n",
       "284  Team B  22.8  -1.5       0  22.849289"
      ]
     },
     "execution_count": 38,
     "metadata": {},
     "output_type": "execute_result"
    }
   ],
   "source": [
    "#Seperating Team A and Team B\n",
    "teamB_shots = shot_data_df[shot_data_df[\"team\"] == \"Team B\"]\n",
    "teamB_shots.head()"
   ]
  },
  {
   "cell_type": "code",
   "execution_count": 39,
   "id": "a7cb0d9a",
   "metadata": {},
   "outputs": [],
   "source": [
    "teamB_shots = teamB_shots.reset_index()"
   ]
  },
  {
   "cell_type": "code",
   "execution_count": 40,
   "id": "e7291f9b",
   "metadata": {},
   "outputs": [],
   "source": [
    "del teamB_shots['index']"
   ]
  },
  {
   "cell_type": "code",
   "execution_count": 41,
   "id": "dd88a89f",
   "metadata": {},
   "outputs": [
    {
     "data": {
      "text/html": [
       "<div>\n",
       "<style scoped>\n",
       "    .dataframe tbody tr th:only-of-type {\n",
       "        vertical-align: middle;\n",
       "    }\n",
       "\n",
       "    .dataframe tbody tr th {\n",
       "        vertical-align: top;\n",
       "    }\n",
       "\n",
       "    .dataframe thead th {\n",
       "        text-align: right;\n",
       "    }\n",
       "</style>\n",
       "<table border=\"1\" class=\"dataframe\">\n",
       "  <thead>\n",
       "    <tr style=\"text-align: right;\">\n",
       "      <th></th>\n",
       "      <th>team</th>\n",
       "      <th>x</th>\n",
       "      <th>y</th>\n",
       "      <th>fgmade</th>\n",
       "      <th>d</th>\n",
       "    </tr>\n",
       "  </thead>\n",
       "  <tbody>\n",
       "    <tr>\n",
       "      <th>0</th>\n",
       "      <td>Team B</td>\n",
       "      <td>-2.9</td>\n",
       "      <td>16.7</td>\n",
       "      <td>0</td>\n",
       "      <td>16.949926</td>\n",
       "    </tr>\n",
       "    <tr>\n",
       "      <th>1</th>\n",
       "      <td>Team B</td>\n",
       "      <td>10.3</td>\n",
       "      <td>24.7</td>\n",
       "      <td>0</td>\n",
       "      <td>26.761540</td>\n",
       "    </tr>\n",
       "    <tr>\n",
       "      <th>2</th>\n",
       "      <td>Team B</td>\n",
       "      <td>-3.5</td>\n",
       "      <td>5.3</td>\n",
       "      <td>1</td>\n",
       "      <td>6.351378</td>\n",
       "    </tr>\n",
       "    <tr>\n",
       "      <th>3</th>\n",
       "      <td>Team B</td>\n",
       "      <td>0.9</td>\n",
       "      <td>1.5</td>\n",
       "      <td>0</td>\n",
       "      <td>1.749286</td>\n",
       "    </tr>\n",
       "    <tr>\n",
       "      <th>4</th>\n",
       "      <td>Team B</td>\n",
       "      <td>22.8</td>\n",
       "      <td>-1.5</td>\n",
       "      <td>0</td>\n",
       "      <td>22.849289</td>\n",
       "    </tr>\n",
       "    <tr>\n",
       "      <th>...</th>\n",
       "      <td>...</td>\n",
       "      <td>...</td>\n",
       "      <td>...</td>\n",
       "      <td>...</td>\n",
       "      <td>...</td>\n",
       "    </tr>\n",
       "    <tr>\n",
       "      <th>219</th>\n",
       "      <td>Team B</td>\n",
       "      <td>-0.5</td>\n",
       "      <td>2.2</td>\n",
       "      <td>0</td>\n",
       "      <td>2.256103</td>\n",
       "    </tr>\n",
       "    <tr>\n",
       "      <th>220</th>\n",
       "      <td>Team B</td>\n",
       "      <td>3.5</td>\n",
       "      <td>7.6</td>\n",
       "      <td>0</td>\n",
       "      <td>8.367198</td>\n",
       "    </tr>\n",
       "    <tr>\n",
       "      <th>221</th>\n",
       "      <td>Team B</td>\n",
       "      <td>0.2</td>\n",
       "      <td>8.8</td>\n",
       "      <td>0</td>\n",
       "      <td>8.802272</td>\n",
       "    </tr>\n",
       "    <tr>\n",
       "      <th>222</th>\n",
       "      <td>Team B</td>\n",
       "      <td>-0.6</td>\n",
       "      <td>0.7</td>\n",
       "      <td>1</td>\n",
       "      <td>0.921954</td>\n",
       "    </tr>\n",
       "    <tr>\n",
       "      <th>223</th>\n",
       "      <td>Team B</td>\n",
       "      <td>-0.3</td>\n",
       "      <td>3.6</td>\n",
       "      <td>0</td>\n",
       "      <td>3.612478</td>\n",
       "    </tr>\n",
       "  </tbody>\n",
       "</table>\n",
       "<p>224 rows × 5 columns</p>\n",
       "</div>"
      ],
      "text/plain": [
       "       team     x     y  fgmade          d\n",
       "0    Team B  -2.9  16.7       0  16.949926\n",
       "1    Team B  10.3  24.7       0  26.761540\n",
       "2    Team B  -3.5   5.3       1   6.351378\n",
       "3    Team B   0.9   1.5       0   1.749286\n",
       "4    Team B  22.8  -1.5       0  22.849289\n",
       "..      ...   ...   ...     ...        ...\n",
       "219  Team B  -0.5   2.2       0   2.256103\n",
       "220  Team B   3.5   7.6       0   8.367198\n",
       "221  Team B   0.2   8.8       0   8.802272\n",
       "222  Team B  -0.6   0.7       1   0.921954\n",
       "223  Team B  -0.3   3.6       0   3.612478\n",
       "\n",
       "[224 rows x 5 columns]"
      ]
     },
     "execution_count": 41,
     "metadata": {},
     "output_type": "execute_result"
    }
   ],
   "source": [
    "teamB_shots"
   ]
  },
  {
   "cell_type": "code",
   "execution_count": 42,
   "id": "cb4e276c",
   "metadata": {},
   "outputs": [
    {
     "data": {
      "text/plain": [
       "team      224\n",
       "x         224\n",
       "y         224\n",
       "fgmade    224\n",
       "d         224\n",
       "dtype: int64"
      ]
     },
     "execution_count": 42,
     "metadata": {},
     "output_type": "execute_result"
    }
   ],
   "source": [
    "teamB_shots.count()"
   ]
  },
  {
   "cell_type": "code",
   "execution_count": 43,
   "id": "1cb8e8f2",
   "metadata": {},
   "outputs": [
    {
     "data": {
      "text/plain": [
       "team       object\n",
       "x         float64\n",
       "y         float64\n",
       "fgmade      int64\n",
       "d         float64\n",
       "dtype: object"
      ]
     },
     "execution_count": 43,
     "metadata": {},
     "output_type": "execute_result"
    }
   ],
   "source": [
    "teamB_shots.dtypes"
   ]
  },
  {
   "cell_type": "markdown",
   "id": "9372d1df",
   "metadata": {},
   "source": [
    "## Team B Corner 3's"
   ]
  },
  {
   "cell_type": "code",
   "execution_count": 44,
   "id": "69ec8916",
   "metadata": {},
   "outputs": [
    {
     "data": {
      "text/plain": [
       "(array([ 41,  55, 123, 138], dtype=int64),)"
      ]
     },
     "execution_count": 44,
     "metadata": {},
     "output_type": "execute_result"
    }
   ],
   "source": [
    "#Corner 3 index for Left Corner\n",
    "idx5 = np.where((teamB_shots[\"x\"] < -22.0) & (teamB_shots[\"y\"] <= 7.8))\n",
    "idx5"
   ]
  },
  {
   "cell_type": "code",
   "execution_count": 45,
   "id": "dbe5b315",
   "metadata": {},
   "outputs": [
    {
     "data": {
      "text/plain": [
       "(array([  4,  33,  51,  56,  95, 124, 133], dtype=int64),)"
      ]
     },
     "execution_count": 45,
     "metadata": {},
     "output_type": "execute_result"
    }
   ],
   "source": [
    "#Corner 3 index for Right Corner\n",
    "idx6 = np.where((teamB_shots[\"x\"] > 22.0) & (teamB_shots[\"y\"] <=7.8))\n",
    "idx6"
   ]
  },
  {
   "cell_type": "code",
   "execution_count": 46,
   "id": "59884a65",
   "metadata": {},
   "outputs": [
    {
     "data": {
      "text/html": [
       "<div>\n",
       "<style scoped>\n",
       "    .dataframe tbody tr th:only-of-type {\n",
       "        vertical-align: middle;\n",
       "    }\n",
       "\n",
       "    .dataframe tbody tr th {\n",
       "        vertical-align: top;\n",
       "    }\n",
       "\n",
       "    .dataframe thead th {\n",
       "        text-align: right;\n",
       "    }\n",
       "</style>\n",
       "<table border=\"1\" class=\"dataframe\">\n",
       "  <thead>\n",
       "    <tr style=\"text-align: right;\">\n",
       "      <th></th>\n",
       "      <th>team</th>\n",
       "      <th>x</th>\n",
       "      <th>y</th>\n",
       "      <th>fgmade</th>\n",
       "      <th>d</th>\n",
       "    </tr>\n",
       "  </thead>\n",
       "  <tbody>\n",
       "    <tr>\n",
       "      <th>41</th>\n",
       "      <td>Team B</td>\n",
       "      <td>-23.1</td>\n",
       "      <td>0.5</td>\n",
       "      <td>0</td>\n",
       "      <td>23.105411</td>\n",
       "    </tr>\n",
       "    <tr>\n",
       "      <th>55</th>\n",
       "      <td>Team B</td>\n",
       "      <td>-22.3</td>\n",
       "      <td>0.4</td>\n",
       "      <td>0</td>\n",
       "      <td>22.303587</td>\n",
       "    </tr>\n",
       "    <tr>\n",
       "      <th>123</th>\n",
       "      <td>Team B</td>\n",
       "      <td>-22.5</td>\n",
       "      <td>5.9</td>\n",
       "      <td>0</td>\n",
       "      <td>23.260696</td>\n",
       "    </tr>\n",
       "    <tr>\n",
       "      <th>138</th>\n",
       "      <td>Team B</td>\n",
       "      <td>-23.1</td>\n",
       "      <td>-2.7</td>\n",
       "      <td>1</td>\n",
       "      <td>23.257257</td>\n",
       "    </tr>\n",
       "  </tbody>\n",
       "</table>\n",
       "</div>"
      ],
      "text/plain": [
       "       team     x    y  fgmade          d\n",
       "41   Team B -23.1  0.5       0  23.105411\n",
       "55   Team B -22.3  0.4       0  22.303587\n",
       "123  Team B -22.5  5.9       0  23.260696\n",
       "138  Team B -23.1 -2.7       1  23.257257"
      ]
     },
     "execution_count": 46,
     "metadata": {},
     "output_type": "execute_result"
    }
   ],
   "source": [
    "# Left Corner\n",
    "left_corner_B = teamB_shots.loc[idx5]\n",
    "left_corner_B"
   ]
  },
  {
   "cell_type": "code",
   "execution_count": 47,
   "id": "56dc521a",
   "metadata": {},
   "outputs": [
    {
     "data": {
      "text/plain": [
       "team      4\n",
       "x         4\n",
       "y         4\n",
       "fgmade    4\n",
       "d         4\n",
       "dtype: int64"
      ]
     },
     "execution_count": 47,
     "metadata": {},
     "output_type": "execute_result"
    }
   ],
   "source": [
    "left_corner_B.count()"
   ]
  },
  {
   "cell_type": "code",
   "execution_count": 48,
   "id": "e5b12005",
   "metadata": {},
   "outputs": [
    {
     "data": {
      "text/html": [
       "<div>\n",
       "<style scoped>\n",
       "    .dataframe tbody tr th:only-of-type {\n",
       "        vertical-align: middle;\n",
       "    }\n",
       "\n",
       "    .dataframe tbody tr th {\n",
       "        vertical-align: top;\n",
       "    }\n",
       "\n",
       "    .dataframe thead th {\n",
       "        text-align: right;\n",
       "    }\n",
       "</style>\n",
       "<table border=\"1\" class=\"dataframe\">\n",
       "  <thead>\n",
       "    <tr style=\"text-align: right;\">\n",
       "      <th></th>\n",
       "      <th>team</th>\n",
       "      <th>x</th>\n",
       "      <th>y</th>\n",
       "      <th>fgmade</th>\n",
       "      <th>d</th>\n",
       "    </tr>\n",
       "  </thead>\n",
       "  <tbody>\n",
       "    <tr>\n",
       "      <th>4</th>\n",
       "      <td>Team B</td>\n",
       "      <td>22.8</td>\n",
       "      <td>-1.5</td>\n",
       "      <td>0</td>\n",
       "      <td>22.849289</td>\n",
       "    </tr>\n",
       "    <tr>\n",
       "      <th>33</th>\n",
       "      <td>Team B</td>\n",
       "      <td>23.1</td>\n",
       "      <td>1.9</td>\n",
       "      <td>1</td>\n",
       "      <td>23.178007</td>\n",
       "    </tr>\n",
       "    <tr>\n",
       "      <th>51</th>\n",
       "      <td>Team B</td>\n",
       "      <td>23.4</td>\n",
       "      <td>6.6</td>\n",
       "      <td>0</td>\n",
       "      <td>24.312960</td>\n",
       "    </tr>\n",
       "    <tr>\n",
       "      <th>56</th>\n",
       "      <td>Team B</td>\n",
       "      <td>23.1</td>\n",
       "      <td>3.1</td>\n",
       "      <td>1</td>\n",
       "      <td>23.307080</td>\n",
       "    </tr>\n",
       "    <tr>\n",
       "      <th>95</th>\n",
       "      <td>Team B</td>\n",
       "      <td>23.3</td>\n",
       "      <td>2.4</td>\n",
       "      <td>0</td>\n",
       "      <td>23.423279</td>\n",
       "    </tr>\n",
       "    <tr>\n",
       "      <th>124</th>\n",
       "      <td>Team B</td>\n",
       "      <td>23.4</td>\n",
       "      <td>-1.2</td>\n",
       "      <td>0</td>\n",
       "      <td>23.430749</td>\n",
       "    </tr>\n",
       "    <tr>\n",
       "      <th>133</th>\n",
       "      <td>Team B</td>\n",
       "      <td>22.8</td>\n",
       "      <td>4.7</td>\n",
       "      <td>1</td>\n",
       "      <td>23.279390</td>\n",
       "    </tr>\n",
       "  </tbody>\n",
       "</table>\n",
       "</div>"
      ],
      "text/plain": [
       "       team     x    y  fgmade          d\n",
       "4    Team B  22.8 -1.5       0  22.849289\n",
       "33   Team B  23.1  1.9       1  23.178007\n",
       "51   Team B  23.4  6.6       0  24.312960\n",
       "56   Team B  23.1  3.1       1  23.307080\n",
       "95   Team B  23.3  2.4       0  23.423279\n",
       "124  Team B  23.4 -1.2       0  23.430749\n",
       "133  Team B  22.8  4.7       1  23.279390"
      ]
     },
     "execution_count": 48,
     "metadata": {},
     "output_type": "execute_result"
    }
   ],
   "source": [
    "# Right Corner\n",
    "right_corner_B = teamB_shots.loc[idx6]\n",
    "right_corner_B"
   ]
  },
  {
   "cell_type": "code",
   "execution_count": 49,
   "id": "30ef7bab",
   "metadata": {},
   "outputs": [
    {
     "data": {
      "text/plain": [
       "team      7\n",
       "x         7\n",
       "y         7\n",
       "fgmade    7\n",
       "d         7\n",
       "dtype: int64"
      ]
     },
     "execution_count": 49,
     "metadata": {},
     "output_type": "execute_result"
    }
   ],
   "source": [
    "right_corner_B.count()"
   ]
  },
  {
   "cell_type": "code",
   "execution_count": 50,
   "id": "b6936f9a",
   "metadata": {},
   "outputs": [
    {
     "data": {
      "text/html": [
       "<div>\n",
       "<style scoped>\n",
       "    .dataframe tbody tr th:only-of-type {\n",
       "        vertical-align: middle;\n",
       "    }\n",
       "\n",
       "    .dataframe tbody tr th {\n",
       "        vertical-align: top;\n",
       "    }\n",
       "\n",
       "    .dataframe thead th {\n",
       "        text-align: right;\n",
       "    }\n",
       "</style>\n",
       "<table border=\"1\" class=\"dataframe\">\n",
       "  <thead>\n",
       "    <tr style=\"text-align: right;\">\n",
       "      <th></th>\n",
       "      <th>team</th>\n",
       "      <th>x</th>\n",
       "      <th>y</th>\n",
       "      <th>fgmade</th>\n",
       "      <th>d</th>\n",
       "    </tr>\n",
       "  </thead>\n",
       "  <tbody>\n",
       "    <tr>\n",
       "      <th>41</th>\n",
       "      <td>Team B</td>\n",
       "      <td>-23.1</td>\n",
       "      <td>0.5</td>\n",
       "      <td>0</td>\n",
       "      <td>23.105411</td>\n",
       "    </tr>\n",
       "    <tr>\n",
       "      <th>55</th>\n",
       "      <td>Team B</td>\n",
       "      <td>-22.3</td>\n",
       "      <td>0.4</td>\n",
       "      <td>0</td>\n",
       "      <td>22.303587</td>\n",
       "    </tr>\n",
       "    <tr>\n",
       "      <th>123</th>\n",
       "      <td>Team B</td>\n",
       "      <td>-22.5</td>\n",
       "      <td>5.9</td>\n",
       "      <td>0</td>\n",
       "      <td>23.260696</td>\n",
       "    </tr>\n",
       "    <tr>\n",
       "      <th>138</th>\n",
       "      <td>Team B</td>\n",
       "      <td>-23.1</td>\n",
       "      <td>-2.7</td>\n",
       "      <td>1</td>\n",
       "      <td>23.257257</td>\n",
       "    </tr>\n",
       "    <tr>\n",
       "      <th>4</th>\n",
       "      <td>Team B</td>\n",
       "      <td>22.8</td>\n",
       "      <td>-1.5</td>\n",
       "      <td>0</td>\n",
       "      <td>22.849289</td>\n",
       "    </tr>\n",
       "    <tr>\n",
       "      <th>33</th>\n",
       "      <td>Team B</td>\n",
       "      <td>23.1</td>\n",
       "      <td>1.9</td>\n",
       "      <td>1</td>\n",
       "      <td>23.178007</td>\n",
       "    </tr>\n",
       "    <tr>\n",
       "      <th>51</th>\n",
       "      <td>Team B</td>\n",
       "      <td>23.4</td>\n",
       "      <td>6.6</td>\n",
       "      <td>0</td>\n",
       "      <td>24.312960</td>\n",
       "    </tr>\n",
       "    <tr>\n",
       "      <th>56</th>\n",
       "      <td>Team B</td>\n",
       "      <td>23.1</td>\n",
       "      <td>3.1</td>\n",
       "      <td>1</td>\n",
       "      <td>23.307080</td>\n",
       "    </tr>\n",
       "    <tr>\n",
       "      <th>95</th>\n",
       "      <td>Team B</td>\n",
       "      <td>23.3</td>\n",
       "      <td>2.4</td>\n",
       "      <td>0</td>\n",
       "      <td>23.423279</td>\n",
       "    </tr>\n",
       "    <tr>\n",
       "      <th>124</th>\n",
       "      <td>Team B</td>\n",
       "      <td>23.4</td>\n",
       "      <td>-1.2</td>\n",
       "      <td>0</td>\n",
       "      <td>23.430749</td>\n",
       "    </tr>\n",
       "    <tr>\n",
       "      <th>133</th>\n",
       "      <td>Team B</td>\n",
       "      <td>22.8</td>\n",
       "      <td>4.7</td>\n",
       "      <td>1</td>\n",
       "      <td>23.279390</td>\n",
       "    </tr>\n",
       "  </tbody>\n",
       "</table>\n",
       "</div>"
      ],
      "text/plain": [
       "       team     x    y  fgmade          d\n",
       "41   Team B -23.1  0.5       0  23.105411\n",
       "55   Team B -22.3  0.4       0  22.303587\n",
       "123  Team B -22.5  5.9       0  23.260696\n",
       "138  Team B -23.1 -2.7       1  23.257257\n",
       "4    Team B  22.8 -1.5       0  22.849289\n",
       "33   Team B  23.1  1.9       1  23.178007\n",
       "51   Team B  23.4  6.6       0  24.312960\n",
       "56   Team B  23.1  3.1       1  23.307080\n",
       "95   Team B  23.3  2.4       0  23.423279\n",
       "124  Team B  23.4 -1.2       0  23.430749\n",
       "133  Team B  22.8  4.7       1  23.279390"
      ]
     },
     "execution_count": 50,
     "metadata": {},
     "output_type": "execute_result"
    }
   ],
   "source": [
    "teamB_C3 = pd.concat([left_corner_B, right_corner_B])\n",
    "teamB_C3"
   ]
  },
  {
   "cell_type": "code",
   "execution_count": 51,
   "id": "deb64e46",
   "metadata": {},
   "outputs": [
    {
     "data": {
      "text/plain": [
       "team      11\n",
       "x         11\n",
       "y         11\n",
       "fgmade    11\n",
       "d         11\n",
       "dtype: int64"
      ]
     },
     "execution_count": 51,
     "metadata": {},
     "output_type": "execute_result"
    }
   ],
   "source": [
    "teamB_C3.count()"
   ]
  },
  {
   "cell_type": "code",
   "execution_count": 52,
   "id": "451853aa",
   "metadata": {},
   "outputs": [
    {
     "data": {
      "text/plain": [
       "224"
      ]
     },
     "execution_count": 52,
     "metadata": {},
     "output_type": "execute_result"
    }
   ],
   "source": [
    "TeamB_total = teamB_shots[\"fgmade\"].count()\n",
    "TeamB_total"
   ]
  },
  {
   "cell_type": "code",
   "execution_count": 53,
   "id": "6261684f",
   "metadata": {},
   "outputs": [
    {
     "data": {
      "text/plain": [
       "11"
      ]
     },
     "execution_count": 53,
     "metadata": {},
     "output_type": "execute_result"
    }
   ],
   "source": [
    "BC3_total = teamB_C3[\"fgmade\"].count()\n",
    "BC3_total"
   ]
  },
  {
   "cell_type": "code",
   "execution_count": 54,
   "id": "256c9177",
   "metadata": {},
   "outputs": [
    {
     "data": {
      "text/plain": [
       "4.910714285714286"
      ]
     },
     "execution_count": 54,
     "metadata": {},
     "output_type": "execute_result"
    }
   ],
   "source": [
    "# Percentage of shots taken for Team B Corner 3\n",
    "Corner_3_percentageB = BC3_total / float(TeamB_total) * 100\n",
    "Corner_3_percentageB"
   ]
  },
  {
   "cell_type": "code",
   "execution_count": 55,
   "id": "edbe7814",
   "metadata": {},
   "outputs": [
    {
     "data": {
      "text/plain": [
       "4"
      ]
     },
     "execution_count": 55,
     "metadata": {},
     "output_type": "execute_result"
    }
   ],
   "source": [
    "d = (teamB_C3[\"fgmade\"] == 1).sum()\n",
    "d"
   ]
  },
  {
   "cell_type": "code",
   "execution_count": 56,
   "id": "af2d4104",
   "metadata": {},
   "outputs": [
    {
     "data": {
      "text/plain": [
       "0.5454545454545454"
      ]
     },
     "execution_count": 56,
     "metadata": {},
     "output_type": "execute_result"
    }
   ],
   "source": [
    "# EFG for Corner 3 of Team B\n",
    "efgBC3 = (d + (0.5 * d)) / BC3_total\n",
    "efgBC3"
   ]
  },
  {
   "cell_type": "markdown",
   "id": "f65385cc",
   "metadata": {},
   "source": [
    "## 2 Point Shots for Team B"
   ]
  },
  {
   "cell_type": "code",
   "execution_count": 57,
   "id": "7fa25f42",
   "metadata": {},
   "outputs": [
    {
     "data": {
      "text/plain": [
       "(array([  0,   2,   3,   5,   6,   7,   8,  10,  13,  14,  15,  16,  17,\n",
       "         18,  19,  20,  21,  22,  23,  24,  25,  26,  27,  29,  31,  36,\n",
       "         37,  38,  39,  40,  42,  43,  44,  50,  52,  53,  54,  57,  58,\n",
       "         59,  60,  62,  63,  64,  65,  66,  67,  68,  69,  70,  71,  72,\n",
       "         73,  74,  75,  79,  80,  81,  82,  83,  86,  87,  88,  89,  90,\n",
       "         91,  94,  96,  97,  99, 100, 101, 102, 103, 104, 106, 107, 108,\n",
       "        112, 113, 116, 117, 118, 120, 125, 126, 127, 131, 132, 134, 136,\n",
       "        137, 139, 140, 142, 143, 144, 145, 146, 147, 148, 149, 150, 151,\n",
       "        152, 153, 154, 155, 156, 157, 158, 160, 163, 164, 165, 167, 169,\n",
       "        170, 171, 173, 175, 177, 178, 179, 182, 183, 184, 185, 186, 187,\n",
       "        188, 189, 190, 192, 193, 194, 195, 196, 200, 201, 202, 204, 205,\n",
       "        208, 214, 215, 219, 220, 221, 222, 223], dtype=int64),)"
      ]
     },
     "execution_count": 57,
     "metadata": {},
     "output_type": "execute_result"
    }
   ],
   "source": [
    "# 2 point shots\n",
    "idx7 = np.where((teamB_shots[\"x\"] >= -22.0) & (teamB_shots[\"x\"] <= 22.0) & (teamB_shots[\"d\"] <= 23.75))\n",
    "idx7"
   ]
  },
  {
   "cell_type": "code",
   "execution_count": 58,
   "id": "d956fe66",
   "metadata": {},
   "outputs": [
    {
     "data": {
      "text/html": [
       "<div>\n",
       "<style scoped>\n",
       "    .dataframe tbody tr th:only-of-type {\n",
       "        vertical-align: middle;\n",
       "    }\n",
       "\n",
       "    .dataframe tbody tr th {\n",
       "        vertical-align: top;\n",
       "    }\n",
       "\n",
       "    .dataframe thead th {\n",
       "        text-align: right;\n",
       "    }\n",
       "</style>\n",
       "<table border=\"1\" class=\"dataframe\">\n",
       "  <thead>\n",
       "    <tr style=\"text-align: right;\">\n",
       "      <th></th>\n",
       "      <th>team</th>\n",
       "      <th>x</th>\n",
       "      <th>y</th>\n",
       "      <th>fgmade</th>\n",
       "      <th>d</th>\n",
       "    </tr>\n",
       "  </thead>\n",
       "  <tbody>\n",
       "    <tr>\n",
       "      <th>0</th>\n",
       "      <td>Team B</td>\n",
       "      <td>-2.9</td>\n",
       "      <td>16.7</td>\n",
       "      <td>0</td>\n",
       "      <td>16.949926</td>\n",
       "    </tr>\n",
       "    <tr>\n",
       "      <th>2</th>\n",
       "      <td>Team B</td>\n",
       "      <td>-3.5</td>\n",
       "      <td>5.3</td>\n",
       "      <td>1</td>\n",
       "      <td>6.351378</td>\n",
       "    </tr>\n",
       "    <tr>\n",
       "      <th>3</th>\n",
       "      <td>Team B</td>\n",
       "      <td>0.9</td>\n",
       "      <td>1.5</td>\n",
       "      <td>0</td>\n",
       "      <td>1.749286</td>\n",
       "    </tr>\n",
       "    <tr>\n",
       "      <th>5</th>\n",
       "      <td>Team B</td>\n",
       "      <td>13.3</td>\n",
       "      <td>11.8</td>\n",
       "      <td>0</td>\n",
       "      <td>17.780045</td>\n",
       "    </tr>\n",
       "    <tr>\n",
       "      <th>6</th>\n",
       "      <td>Team B</td>\n",
       "      <td>-10.9</td>\n",
       "      <td>15.2</td>\n",
       "      <td>0</td>\n",
       "      <td>18.704278</td>\n",
       "    </tr>\n",
       "    <tr>\n",
       "      <th>...</th>\n",
       "      <td>...</td>\n",
       "      <td>...</td>\n",
       "      <td>...</td>\n",
       "      <td>...</td>\n",
       "      <td>...</td>\n",
       "    </tr>\n",
       "    <tr>\n",
       "      <th>219</th>\n",
       "      <td>Team B</td>\n",
       "      <td>-0.5</td>\n",
       "      <td>2.2</td>\n",
       "      <td>0</td>\n",
       "      <td>2.256103</td>\n",
       "    </tr>\n",
       "    <tr>\n",
       "      <th>220</th>\n",
       "      <td>Team B</td>\n",
       "      <td>3.5</td>\n",
       "      <td>7.6</td>\n",
       "      <td>0</td>\n",
       "      <td>8.367198</td>\n",
       "    </tr>\n",
       "    <tr>\n",
       "      <th>221</th>\n",
       "      <td>Team B</td>\n",
       "      <td>0.2</td>\n",
       "      <td>8.8</td>\n",
       "      <td>0</td>\n",
       "      <td>8.802272</td>\n",
       "    </tr>\n",
       "    <tr>\n",
       "      <th>222</th>\n",
       "      <td>Team B</td>\n",
       "      <td>-0.6</td>\n",
       "      <td>0.7</td>\n",
       "      <td>1</td>\n",
       "      <td>0.921954</td>\n",
       "    </tr>\n",
       "    <tr>\n",
       "      <th>223</th>\n",
       "      <td>Team B</td>\n",
       "      <td>-0.3</td>\n",
       "      <td>3.6</td>\n",
       "      <td>0</td>\n",
       "      <td>3.612478</td>\n",
       "    </tr>\n",
       "  </tbody>\n",
       "</table>\n",
       "<p>151 rows × 5 columns</p>\n",
       "</div>"
      ],
      "text/plain": [
       "       team     x     y  fgmade          d\n",
       "0    Team B  -2.9  16.7       0  16.949926\n",
       "2    Team B  -3.5   5.3       1   6.351378\n",
       "3    Team B   0.9   1.5       0   1.749286\n",
       "5    Team B  13.3  11.8       0  17.780045\n",
       "6    Team B -10.9  15.2       0  18.704278\n",
       "..      ...   ...   ...     ...        ...\n",
       "219  Team B  -0.5   2.2       0   2.256103\n",
       "220  Team B   3.5   7.6       0   8.367198\n",
       "221  Team B   0.2   8.8       0   8.802272\n",
       "222  Team B  -0.6   0.7       1   0.921954\n",
       "223  Team B  -0.3   3.6       0   3.612478\n",
       "\n",
       "[151 rows x 5 columns]"
      ]
     },
     "execution_count": 58,
     "metadata": {},
     "output_type": "execute_result"
    }
   ],
   "source": [
    "teamB_2 = teamB_shots.loc[idx7]\n",
    "teamB_2"
   ]
  },
  {
   "cell_type": "code",
   "execution_count": 59,
   "id": "fcb8fc5b",
   "metadata": {},
   "outputs": [
    {
     "data": {
      "text/plain": [
       "151"
      ]
     },
     "execution_count": 59,
     "metadata": {},
     "output_type": "execute_result"
    }
   ],
   "source": [
    "B2_total = teamB_2[\"fgmade\"].count()\n",
    "B2_total"
   ]
  },
  {
   "cell_type": "code",
   "execution_count": 60,
   "id": "d183652e",
   "metadata": {},
   "outputs": [
    {
     "data": {
      "text/plain": [
       "67.41071428571429"
      ]
     },
     "execution_count": 60,
     "metadata": {},
     "output_type": "execute_result"
    }
   ],
   "source": [
    "# Percentage of shots taken for Team B 2 pointers\n",
    "twopoint_percentageB = B2_total / float(TeamB_total) * 100\n",
    "twopoint_percentageB"
   ]
  },
  {
   "cell_type": "code",
   "execution_count": 61,
   "id": "0369fa91",
   "metadata": {},
   "outputs": [
    {
     "data": {
      "text/plain": [
       "67"
      ]
     },
     "execution_count": 61,
     "metadata": {},
     "output_type": "execute_result"
    }
   ],
   "source": [
    "e = (teamB_2[\"fgmade\"] == 1).sum()\n",
    "e"
   ]
  },
  {
   "cell_type": "code",
   "execution_count": 62,
   "id": "09c82c56",
   "metadata": {},
   "outputs": [
    {
     "data": {
      "text/plain": [
       "0.44370860927152317"
      ]
     },
     "execution_count": 62,
     "metadata": {},
     "output_type": "execute_result"
    }
   ],
   "source": [
    "# efg for 2 pointers\n",
    "efgB2 = e / B2_total\n",
    "efgB2"
   ]
  },
  {
   "cell_type": "markdown",
   "id": "55de9773",
   "metadata": {},
   "source": [
    "## Non Corner 3 for Team B"
   ]
  },
  {
   "cell_type": "code",
   "execution_count": 63,
   "id": "5e308641",
   "metadata": {},
   "outputs": [
    {
     "data": {
      "text/plain": [
       "(array([  1,   9,  11,  12,  28,  30,  32,  34,  35,  45,  46,  47,  48,\n",
       "         49,  61,  76,  77,  78,  84,  85,  92,  93,  98, 105, 109, 110,\n",
       "        111, 114, 115, 119, 121, 122, 128, 129, 130, 135, 141, 159, 161,\n",
       "        162, 166, 168, 172, 174, 176, 180, 181, 191, 197, 198, 199, 203,\n",
       "        206, 207, 209, 210, 211, 212, 213, 216, 217, 218], dtype=int64),)"
      ]
     },
     "execution_count": 63,
     "metadata": {},
     "output_type": "execute_result"
    }
   ],
   "source": [
    "# NC3 point shots\n",
    "idx8 = np.where((teamB_shots[\"y\"] > 7.8) & (teamB_shots[\"d\"] > 23.75))\n",
    "idx8"
   ]
  },
  {
   "cell_type": "code",
   "execution_count": 64,
   "id": "be9879af",
   "metadata": {},
   "outputs": [
    {
     "data": {
      "text/html": [
       "<div>\n",
       "<style scoped>\n",
       "    .dataframe tbody tr th:only-of-type {\n",
       "        vertical-align: middle;\n",
       "    }\n",
       "\n",
       "    .dataframe tbody tr th {\n",
       "        vertical-align: top;\n",
       "    }\n",
       "\n",
       "    .dataframe thead th {\n",
       "        text-align: right;\n",
       "    }\n",
       "</style>\n",
       "<table border=\"1\" class=\"dataframe\">\n",
       "  <thead>\n",
       "    <tr style=\"text-align: right;\">\n",
       "      <th></th>\n",
       "      <th>team</th>\n",
       "      <th>x</th>\n",
       "      <th>y</th>\n",
       "      <th>fgmade</th>\n",
       "      <th>d</th>\n",
       "    </tr>\n",
       "  </thead>\n",
       "  <tbody>\n",
       "    <tr>\n",
       "      <th>1</th>\n",
       "      <td>Team B</td>\n",
       "      <td>10.3</td>\n",
       "      <td>24.7</td>\n",
       "      <td>0</td>\n",
       "      <td>26.761540</td>\n",
       "    </tr>\n",
       "    <tr>\n",
       "      <th>9</th>\n",
       "      <td>Team B</td>\n",
       "      <td>8.5</td>\n",
       "      <td>28.7</td>\n",
       "      <td>0</td>\n",
       "      <td>29.932257</td>\n",
       "    </tr>\n",
       "    <tr>\n",
       "      <th>11</th>\n",
       "      <td>Team B</td>\n",
       "      <td>-14.7</td>\n",
       "      <td>20.7</td>\n",
       "      <td>0</td>\n",
       "      <td>25.388580</td>\n",
       "    </tr>\n",
       "    <tr>\n",
       "      <th>12</th>\n",
       "      <td>Team B</td>\n",
       "      <td>-10.4</td>\n",
       "      <td>24.6</td>\n",
       "      <td>0</td>\n",
       "      <td>26.708051</td>\n",
       "    </tr>\n",
       "    <tr>\n",
       "      <th>28</th>\n",
       "      <td>Team B</td>\n",
       "      <td>1.0</td>\n",
       "      <td>25.0</td>\n",
       "      <td>0</td>\n",
       "      <td>25.019992</td>\n",
       "    </tr>\n",
       "    <tr>\n",
       "      <th>...</th>\n",
       "      <td>...</td>\n",
       "      <td>...</td>\n",
       "      <td>...</td>\n",
       "      <td>...</td>\n",
       "      <td>...</td>\n",
       "    </tr>\n",
       "    <tr>\n",
       "      <th>212</th>\n",
       "      <td>Team B</td>\n",
       "      <td>-8.9</td>\n",
       "      <td>23.9</td>\n",
       "      <td>0</td>\n",
       "      <td>25.503333</td>\n",
       "    </tr>\n",
       "    <tr>\n",
       "      <th>213</th>\n",
       "      <td>Team B</td>\n",
       "      <td>7.9</td>\n",
       "      <td>25.4</td>\n",
       "      <td>1</td>\n",
       "      <td>26.600188</td>\n",
       "    </tr>\n",
       "    <tr>\n",
       "      <th>216</th>\n",
       "      <td>Team B</td>\n",
       "      <td>15.6</td>\n",
       "      <td>23.7</td>\n",
       "      <td>0</td>\n",
       "      <td>28.373403</td>\n",
       "    </tr>\n",
       "    <tr>\n",
       "      <th>217</th>\n",
       "      <td>Team B</td>\n",
       "      <td>-15.0</td>\n",
       "      <td>22.2</td>\n",
       "      <td>1</td>\n",
       "      <td>26.792536</td>\n",
       "    </tr>\n",
       "    <tr>\n",
       "      <th>218</th>\n",
       "      <td>Team B</td>\n",
       "      <td>-4.3</td>\n",
       "      <td>26.4</td>\n",
       "      <td>0</td>\n",
       "      <td>26.747897</td>\n",
       "    </tr>\n",
       "  </tbody>\n",
       "</table>\n",
       "<p>62 rows × 5 columns</p>\n",
       "</div>"
      ],
      "text/plain": [
       "       team     x     y  fgmade          d\n",
       "1    Team B  10.3  24.7       0  26.761540\n",
       "9    Team B   8.5  28.7       0  29.932257\n",
       "11   Team B -14.7  20.7       0  25.388580\n",
       "12   Team B -10.4  24.6       0  26.708051\n",
       "28   Team B   1.0  25.0       0  25.019992\n",
       "..      ...   ...   ...     ...        ...\n",
       "212  Team B  -8.9  23.9       0  25.503333\n",
       "213  Team B   7.9  25.4       1  26.600188\n",
       "216  Team B  15.6  23.7       0  28.373403\n",
       "217  Team B -15.0  22.2       1  26.792536\n",
       "218  Team B  -4.3  26.4       0  26.747897\n",
       "\n",
       "[62 rows x 5 columns]"
      ]
     },
     "execution_count": 64,
     "metadata": {},
     "output_type": "execute_result"
    }
   ],
   "source": [
    "teamB_NC3 = teamB_shots.loc[idx8]\n",
    "teamB_NC3"
   ]
  },
  {
   "cell_type": "code",
   "execution_count": 65,
   "id": "1237cf5d",
   "metadata": {},
   "outputs": [
    {
     "data": {
      "text/plain": [
       "62"
      ]
     },
     "execution_count": 65,
     "metadata": {},
     "output_type": "execute_result"
    }
   ],
   "source": [
    "BNC3_total = teamB_NC3[\"fgmade\"].count()\n",
    "BNC3_total"
   ]
  },
  {
   "cell_type": "code",
   "execution_count": 66,
   "id": "c3f79ab3",
   "metadata": {},
   "outputs": [
    {
     "data": {
      "text/plain": [
       "27.67857142857143"
      ]
     },
     "execution_count": 66,
     "metadata": {},
     "output_type": "execute_result"
    }
   ],
   "source": [
    "# Percentage for Non Corner 3 for Team A\n",
    "NC3_B_percentage = BNC3_total / float(TeamB_total) * 100\n",
    "NC3_B_percentage"
   ]
  },
  {
   "cell_type": "code",
   "execution_count": 67,
   "id": "b3778082",
   "metadata": {},
   "outputs": [
    {
     "data": {
      "text/plain": [
       "21"
      ]
     },
     "execution_count": 67,
     "metadata": {},
     "output_type": "execute_result"
    }
   ],
   "source": [
    "f = (teamB_NC3[\"fgmade\"] == 1).sum()\n",
    "f"
   ]
  },
  {
   "cell_type": "code",
   "execution_count": 68,
   "id": "cdfe4cba",
   "metadata": {},
   "outputs": [
    {
     "data": {
      "text/plain": [
       "0.5080645161290323"
      ]
     },
     "execution_count": 68,
     "metadata": {},
     "output_type": "execute_result"
    }
   ],
   "source": [
    "# efg for Non Corner 3 pointers\n",
    "efgBNC3 = (f + (0.5 * f)) / BNC3_total\n",
    "efgBNC3"
   ]
  },
  {
   "cell_type": "code",
   "execution_count": null,
   "id": "42fad289",
   "metadata": {},
   "outputs": [],
   "source": []
  }
 ],
 "metadata": {
  "kernelspec": {
   "display_name": "Python 3 (ipykernel)",
   "language": "python",
   "name": "python3"
  },
  "language_info": {
   "codemirror_mode": {
    "name": "ipython",
    "version": 3
   },
   "file_extension": ".py",
   "mimetype": "text/x-python",
   "name": "python",
   "nbconvert_exporter": "python",
   "pygments_lexer": "ipython3",
   "version": "3.9.7"
  }
 },
 "nbformat": 4,
 "nbformat_minor": 5
}
